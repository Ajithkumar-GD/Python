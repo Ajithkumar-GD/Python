{
 "cells": [
  {
   "cell_type": "code",
   "execution_count": null,
   "metadata": {},
   "outputs": [],
   "source": [
    "for num in range (1, 100):\n",
    "    if (num % 3 & num % 5 ==0):\n",
    "             print(\"Dogcat\")\n",
    "    elif (num%5 == 0):\n",
    "            print(\"CAT\")\n",
    "    elif (num % 3 == 0):\n",
    "            print (\"Dog\")\n",
    "    else:\n",
    "          print (num)"
   ]
  },
  {
   "cell_type": "code",
   "execution_count": null,
   "metadata": {},
   "outputs": [],
   "source": [
    "a=input()\n",
    "x=0\n",
    "y=0\n",
    "for i in a:\n",
    "    if (i==\"L\"):\n",
    "        x=x-1\n",
    "    elif (i==\"R\"):\n",
    "        x=x+1\n",
    "    elif (i==\"U\"):\n",
    "        y=y+1\n",
    "    elif (i==\"D\"):\n",
    "        y=y-1\n",
    "        print(x,y)"
   ]
  },
  {
   "cell_type": "markdown",
   "metadata": {},
   "source": [
    "# Functions "
   ]
  },
  {
   "cell_type": "code",
   "execution_count": null,
   "metadata": {},
   "outputs": [],
   "source": [
    "def name_of_the_function(arg1,arg2,arg3):\n",
    "    '''\n",
    "    This is the documentation of the function foes here\n",
    "    '''\n",
    "    #Do some stuff in code of lines\n",
    "    #do some other stuff in code of lines\n",
    "return None"
   ]
  },
  {
   "cell_type": "code",
   "execution_count": null,
   "metadata": {},
   "outputs": [],
   "source": [
    "#small addition fucntion using python \n",
    " def addsum(num1,num2):\n",
    "        return num1+num2\n",
    "    print (\"our sum is equal to  : \",addsum(12,56))"
   ]
  },
  {
   "cell_type": "code",
   "execution_count": null,
   "metadata": {},
   "outputs": [],
   "source": []
  }
 ],
 "metadata": {
  "kernelspec": {
   "display_name": "Python 3",
   "language": "python",
   "name": "python3"
  },
  "language_info": {
   "codemirror_mode": {
    "name": "ipython",
    "version": 3
   },
   "file_extension": ".py",
   "mimetype": "text/x-python",
   "name": "python",
   "nbconvert_exporter": "python",
   "pygments_lexer": "ipython3",
   "version": "3.7.1"
  }
 },
 "nbformat": 4,
 "nbformat_minor": 2
}
