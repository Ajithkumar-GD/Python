{
 "cells": [
  {
   "cell_type": "code",
   "execution_count": 15,
   "metadata": {},
   "outputs": [],
   "source": [
    "#Kwargs \n",
    "\n",
    "def my_kw_fun(**kwargs):\n",
    "    if 'fruit' in kwargs:\n",
    "        print(f\"My Fav. Fruit is {kwargs['fruit']}\")\n",
    "    else:\n",
    "        print(\"I dont like fruits at all\")\n",
    "    if 'animal' in kwargs:\n",
    "        print (f\"My Fav. Animal is {kwargs['animal']}\")\n",
    "    else:\n",
    "        print(\"I dont like fruits at all\")\n",
    "    if 'color' in kwargs:\n",
    "        print (f\"My Fav. color is {kwargs['color']}\")\n",
    "    else:\n",
    "        print(\"I dont like color at all\")\n",
    "               "
   ]
  },
  {
   "cell_type": "code",
   "execution_count": 16,
   "metadata": {},
   "outputs": [
    {
     "name": "stdout",
     "output_type": "stream",
     "text": [
      "My Fav. Fruit is Apple\n",
      "My Fav. Animal is kangaroo\n",
      "My Fav. color is Royal Black\n"
     ]
    }
   ],
   "source": [
    "my_kw_fun(fruit=\"Apple\",animal=\"kangaroo\",color = \"Royal Black\")"
   ]
  },
  {
   "cell_type": "code",
   "execution_count": null,
   "metadata": {},
   "outputs": [],
   "source": []
  },
  {
   "cell_type": "code",
   "execution_count": null,
   "metadata": {},
   "outputs": [],
   "source": []
  }
 ],
 "metadata": {
  "kernelspec": {
   "display_name": "Python 3",
   "language": "python",
   "name": "python3"
  },
  "language_info": {
   "codemirror_mode": {
    "name": "ipython",
    "version": 3
   },
   "file_extension": ".py",
   "mimetype": "text/x-python",
   "name": "python",
   "nbconvert_exporter": "python",
   "pygments_lexer": "ipython3",
   "version": "3.7.1"
  }
 },
 "nbformat": 4,
 "nbformat_minor": 2
}
