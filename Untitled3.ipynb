{
 "cells": [
  {
   "cell_type": "code",
   "execution_count": 1,
   "metadata": {},
   "outputs": [],
   "source": [
    "def name_of_the_function(arg1,arg2,arg3):\n",
    "    '''\n",
    "    This is the documentation of the function foes here\n",
    "    '''\n",
    "    #Do some stuff in code of lines\n",
    "    #do some other stuff in code of lines\n",
    "return None"
   ]
  },
  {
   "cell_type": "code",
   "execution_count": 11,
   "metadata": {},
   "outputs": [],
   "source": [
    "#small addition fucntion using python \n",
    "def addSum(num1,num2):\n",
    "        return num1+num2\n",
    "     "
   ]
  },
  {
   "cell_type": "code",
   "execution_count": 14,
   "metadata": {},
   "outputs": [
    {
     "name": "stdout",
     "output_type": "stream",
     "text": [
      "our sum is equal to:  68\n"
     ]
    }
   ],
   "source": [
    " print(\"our sum is equal to: \",addSum(12,56))"
   ]
  },
  {
   "cell_type": "code",
   "execution_count": 31,
   "metadata": {},
   "outputs": [],
   "source": [
    "def compositeno(a):\n",
    "     count = 0\n",
    "    for num in range(3,a):\n",
    "    if (a%num==0):\n",
    "        count+=1;\n",
    "        if (count == 1):\n",
    "            print (\"composite no\")\n",
    "        else:\n",
    "            print (\"not composite no\")"
   ]
  },
  {
   "cell_type": "code",
   "execution_count": 41,
   "metadata": {},
   "outputs": [],
   "source": [
    "def compositeno(n):\n",
    "    p = False\n",
    "    for i in range(2,(int(n+1/2))):\n",
    "        \n",
    "        if (n%i==0):\n",
    "            p= True\n",
    "        if (p):\n",
    "            return (\"not composite no\")\n",
    "        else:\n",
    "            return(\" composite no\")"
   ]
  },
  {
   "cell_type": "code",
   "execution_count": 42,
   "metadata": {},
   "outputs": [
    {
     "name": "stdout",
     "output_type": "stream",
     "text": [
      "not composite no\n"
     ]
    }
   ],
   "source": [
    "print (compositeno(4))"
   ]
  },
  {
   "cell_type": "code",
   "execution_count": 56,
   "metadata": {},
   "outputs": [],
   "source": [
    "def james_bond(some_list):\n",
    "    sub_list = [0,0,7,a]\n",
    "    for item in some_list:\n",
    "        if item == sub_list[0]:\n",
    "            sub_list.pop(0)\n",
    "                \n",
    "    return len(sub_list)==1\n"
   ]
  },
  {
   "cell_type": "code",
   "execution_count": 57,
   "metadata": {},
   "outputs": [
    {
     "data": {
      "text/plain": [
       "False"
      ]
     },
     "execution_count": 57,
     "metadata": {},
     "output_type": "execute_result"
    }
   ],
   "source": [
    "james_bond([1,2,7,3,0,0,45,6])"
   ]
  },
  {
   "cell_type": "code",
   "execution_count": null,
   "metadata": {},
   "outputs": [],
   "source": []
  }
 ],
 "metadata": {
  "kernelspec": {
   "display_name": "Python 3",
   "language": "python",
   "name": "python3"
  },
  "language_info": {
   "codemirror_mode": {
    "name": "ipython",
    "version": 3
   },
   "file_extension": ".py",
   "mimetype": "text/x-python",
   "name": "python",
   "nbconvert_exporter": "python",
   "pygments_lexer": "ipython3",
   "version": "3.7.1"
  }
 },
 "nbformat": 4,
 "nbformat_minor": 2
}
